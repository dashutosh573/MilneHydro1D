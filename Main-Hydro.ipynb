{
 "cells": [
  {
   "cell_type": "code",
   "execution_count": 2,
   "metadata": {},
   "outputs": [],
   "source": [
    "import numpy as np\n",
    "import matplotlib.pyplot as plt\n",
    "from scipy.optimize import brentq\n",
    "import FCT1D as FCT\n",
    "import Vfinder as VF"
   ]
  },
  {
   "cell_type": "code",
   "execution_count": 3,
   "metadata": {},
   "outputs": [],
   "source": [
    "# Constants and Parameters\n",
    "xlength = 20      # Total length of the grid\n",
    "nx = 500          # Number of grid points\n",
    "\n",
    "x0 = -6          # Initial coordinate in real space\n",
    "eta = np.linspace(x0, -x0, nx)"
   ]
  },
  {
   "cell_type": "code",
   "execution_count": 4,
   "metadata": {},
   "outputs": [],
   "source": [
    "def initialize_conditions(condition_type):\n",
    "    \"\"\"\n",
    "    Initialize the flow problem based on the specified initial condition type.\n",
    "\n",
    "    Parameters:\n",
    "        condition_type (str): 'bjorken' or 'landau', defining the initial profile.\n",
    "\n",
    "    Returns:\n",
    "        t0 (float): Initial time for evolution.\n",
    "        nt (int): Number of timesteps.\n",
    "        dx (float): Step size in space.\n",
    "        dt (float): Timestep size.\n",
    "        E (numpy.ndarray): Initial energy density array.\n",
    "        u (numpy.ndarray): Initial velocity array (zero initially).\n",
    "    \"\"\"\n",
    "    u = np.zeros(nx)  # Initial velocity array (zero)\n",
    "    E = np.zeros(nx)  # Initial energy density array\n",
    "    n = np.zeros(nx)  # Initial number density array\n",
    "    \n",
    "    if condition_type.lower() == 'bjorken':\n",
    "        t0 = 1.0\n",
    "        nt = 626            # Number of timesteps\n",
    "        dx = xlength / nx   # Step size in space\n",
    "        ds = 0.4            # CFL number\n",
    "        dt = ds * dx        # Timestep size\n",
    "        E = 15 * np.ones(nx)  # Uniform initial energy density\n",
    "        n = 15 * np.ones(nx)  # Uniform initial energy density\n",
    "        \n",
    "    elif condition_type.lower() == 'landau':\n",
    "        t0 = 500.0\n",
    "        nt = 500            # Number of timesteps\n",
    "        dx = 0.1            # Step size in space\n",
    "        ds = 0.1            # CFL number\n",
    "        dt = ds * dx * t0   # Timestep size adjusted for Landau profile\n",
    "        E = Landau(eta, t0)  # Landau-Khalatnikov profile for initial energy density\n",
    "        n = Landau(eta, t0)  # Landau-Khalatnikov profile for initial energy density\n",
    "                \n",
    "    elif condition_type.lower() == 'square_pulse':\n",
    "        t0 = 1.0\n",
    "        nt = 242            # Number of timesteps\n",
    "        dx = xlength / nx   # Step size in space\n",
    "        ds = 0.4            # CFL number\n",
    "        dt = ds * dx        # Timestep size\n",
    "        pulse_width = int(nx * 0.2)  # 20% of the domain length as pulse width\n",
    "        pulse_start = nx // 2 - pulse_width // 2\n",
    "        pulse_end = pulse_start + pulse_width\n",
    "        E[pulse_start:pulse_end] = 50.0  # High energy density in the middle  \n",
    "        u[pulse_start:pulse_end] = np.tanh(eta[pulse_start:pulse_end])\n",
    "        n[pulse_start:pulse_end] = 50.0  # High energy density in the middle          \n",
    "\n",
    "    else:\n",
    "        raise ValueError(\"Invalid condition_type. Choose either 'bjorken' or 'landau'.\")\n",
    "\n",
    "    return t0, nt, dx, dt, E, u, n"
   ]
  },
  {
   "cell_type": "code",
   "execution_count": 5,
   "metadata": {},
   "outputs": [],
   "source": [
    "# Helper Functions\n",
    "def CoordTrans(vz, eta, tau):\n",
    "    \"\"\"Coordinate transformation for longitudinal velocity.\"\"\"\n",
    "    return 1 / tau * ((-np.sinh(eta) + vz * np.cosh(eta)) / (np.cosh(eta) - vz * np.sinh(eta)))"
   ]
  },
  {
   "cell_type": "code",
   "execution_count": 6,
   "metadata": {},
   "outputs": [],
   "source": [
    "def Bjorken(tau):\n",
    "    \"\"\"Analytical Bjorken solution for energy density.\"\"\"\n",
    "    e0 = 15\n",
    "    t0 = 1.0\n",
    "    return e0 * (t0 / tau)**(4 / 3)\n",
    "\n",
    "def Bjorken_nb(tau):\n",
    "    \"\"\"Analytical Bjorken solution for number density.\"\"\"\n",
    "    nb0 = 15\n",
    "    t0 = 1.0\n",
    "    return nb0 * (t0 / tau)"
   ]
  },
  {
   "cell_type": "code",
   "execution_count": 8,
   "metadata": {},
   "outputs": [],
   "source": [
    "def Landau(eta, tau):\n",
    "    \"\"\"Analytical Landau-Khalatnikov solution.\"\"\"\n",
    "    e0 = 10 * 10**3\n",
    "    delta = 0.5\n",
    "    return e0 * np.exp(-4 / 3 * (2 * np.log(tau / delta) - ((np.log(tau / delta))**2 - eta**2)**0.5))"
   ]
  },
  {
   "cell_type": "code",
   "execution_count": 11,
   "metadata": {},
   "outputs": [],
   "source": [
    "def E_calcnFrame(e, P, u, t0):\n",
    "    \"\"\"Calculate energy in the lab frame.\"\"\"\n",
    "    gamma = 1 / np.sqrt(1 - (t0**2) * u**2)\n",
    "    return (e + P) * gamma**2 - P\n",
    "\n",
    "def M_calcnFrame(e, P, u, t0):\n",
    "    \"\"\"Calculate momentum in the lab frame.\"\"\"\n",
    "    gamma = 1 / np.sqrt(1 - (t0**2) * u**2)\n",
    "    return (e + P) * gamma**2 * u\n",
    "    \n",
    "def R_calcnFrame(n, P, u, t0):\n",
    "    \"\"\"Calculate momentum in the lab frame.\"\"\"\n",
    "    gamma = 1 / np.sqrt(1 - (t0**2) * u**2)\n",
    "    return gamma*n   "
   ]
  },
  {
   "cell_type": "code",
   "execution_count": 12,
   "metadata": {},
   "outputs": [],
   "source": [
    "def EOS(E):\n",
    "    \"\"\"Equation of State: Pressure as a function of energy density.\"\"\"\n",
    "    cs = np.sqrt(1 / 3)\n",
    "    return cs**2 * E"
   ]
  },
  {
   "cell_type": "code",
   "execution_count": 13,
   "metadata": {},
   "outputs": [],
   "source": [
    "def CentDiff(B):\n",
    "    \"\"\"Central difference for spatial derivative.\"\"\"\n",
    "    Bbar = np.zeros(nx)\n",
    "    Bbar[1:-1] = (B[2:] - B[:-2]) / (2.0 * dx)\n",
    "    Bbar[0], Bbar[-1] = Bbar[1], Bbar[-2]\n",
    "    return Bbar"
   ]
  },
  {
   "cell_type": "code",
   "execution_count": 14,
   "metadata": {},
   "outputs": [],
   "source": [
    "def sinit(u, e, n, t0):\n",
    "    \"\"\"Initialize lab frame energy and momentum.\"\"\"\n",
    "    P_n = EOS(e)\n",
    "    E_lab = E_calcnFrame(e, P_n, u, t0)\n",
    "    M_lab = M_calcnFrame(e, P_n, u, t0)\n",
    "    R_lab = R_calcnFrame(n, P_n, u, t0)\n",
    "    cut = 10**(-10)\n",
    "\n",
    "    for i in range(nx):\n",
    "        if E_lab[i] <= cut:\n",
    "            E_lab[i] = 0.0\n",
    "            M_lab[i] = 0.0\n",
    "            R_lab[i] = 0.0\n",
    "            u[i] = 0.0\n",
    "\n",
    "    return E_lab, M_lab, R_lab"
   ]
  },
  {
   "cell_type": "code",
   "execution_count": 15,
   "metadata": {},
   "outputs": [],
   "source": [
    "def flow2(t0,u,e,nb):\n",
    "    \"\"\"Main function to evolve the flow equations using FCT.\"\"\"\n",
    "    Pzero = np.zeros(nx)\n",
    "    E_n, M_n, R_n = sinit(u, e, nb, t0)\n",
    "    eps_p_tot = np.ones((2, nt))\n",
    "    Landau_p_tot = np.ones((nt, nx))\n",
    "\n",
    "\n",
    "\n",
    "    for n in range(nt+1):\n",
    "        #Calculating Pressure\n",
    "\n",
    "        P_n=EOS(e)   \n",
    "        tau_half=(t0+(n)*dt)\n",
    "        E_n_til=tau_half*E_n\n",
    "        M_n_til=(tau_half**2)*(M_n)\n",
    "        R_n_til=tau_half*R_n\n",
    "                \n",
    "        E_src_B=-u*P_n\n",
    "        E_src_C=-(1+u**2)*P_n-(E_n)*u**2\n",
    "        \n",
    "        M_src_B=-P_n\n",
    "        M_src_C=-M_n_til/tau_half\n",
    "\n",
    "        #Calculating E,M at half time step, and then finding velocity using \n",
    "        #function 'velocityfinder'\n",
    "      \n",
    "        \n",
    "        E_half_til=FCT.fct(E_n_til,Pzero,Pzero,u/tau_half,dt/(2*dx),dt/2)\n",
    "        M_half_til=FCT.fct(M_n_til,Pzero,Pzero,u/tau_half,dt/(2*dx),dt/2)\n",
    "        R_half_til=FCT.fct(R_n_til,Pzero,Pzero,u/tau_half,dt/(2*dx),dt/2)\n",
    "        \n",
    "        E_half_til_prime=E_half_til+0.5*dt*(E_src_C+CentDiff(E_src_B))\n",
    "        M_half_til_prime=M_half_til+0.5*dt*(M_src_C+CentDiff(M_src_B))\n",
    "        R_half_til_prime=R_half_til\n",
    "        \n",
    "        #Not added yet sources B\n",
    "        E_half=E_half_til_prime/tau_half\n",
    "        M_half=M_half_til_prime/(tau_half**2)\n",
    "        R_half=R_half_til_prime/tau_half\n",
    "                \n",
    "        e_half,u_half,vnew=VF.velocityfinder1d(E_half,M_half*tau_half)       \n",
    "        P_half=EOS(e_half)\n",
    "        nb_half=R_half*np.sqrt(1.0-u_half**2)\n",
    "         \n",
    "        #eps_p_tot[0][n-1]=tau_half\n",
    "        #eps_p_tot[1][n-1]=e_half[int(nx/2)]\n",
    "        \n",
    "        eps_p_tot[0][n-1]=tau_half\n",
    "        eps_p_tot[1][n-1]=nb_half[int(nx/2)]  \n",
    "        Landau_p_tot[n-1,:]=e_half\n",
    "  \n",
    "        \n",
    "        tau=(t0+(n+1)*dt)\n",
    "        E_src_B=-u_half*P_half\n",
    "        E_src_C=-(1+u_half**2)*P_half-(E_half)*u_half**2\n",
    "        \n",
    "        M_src_B=-P_half\n",
    "        M_src_C=-M_half_til_prime/tau\n",
    "                   \n",
    "        #Calculating E,M at full time step, using the updated value of \n",
    "        #velocity and other source term   \n",
    "        \n",
    "        E_full_til=FCT.fct(E_n_til,Pzero,Pzero,u_half/tau,dt/(dx),dt)\n",
    "        M_full_til=FCT.fct(M_n_til,Pzero,Pzero,u_half/tau,dt/(dx),dt)\n",
    "        R_full_til=FCT.fct(R_n_til,Pzero,Pzero,u_half/tau,dt/(dx),dt)\n",
    "                \n",
    "        E_full_til_prime=E_full_til+dt*(E_src_C+CentDiff(E_src_B))\n",
    "        M_full_til_prime=M_full_til+dt*(M_src_C+CentDiff(M_src_B))\n",
    "        R_full_til_prime=R_full_til\n",
    "        \n",
    "        E_full=E_full_til_prime/tau\n",
    "        M_full=M_full_til_prime/(tau**2)\n",
    "        R_full=R_full_til_prime/tau        \n",
    "        e,u,vnew=VF.velocityfinder1d(E_full,M_full*tau)\n",
    "\n",
    "\n",
    "        #Finally updating the energy and momentum variables\n",
    "        E_n=E_full\n",
    "        M_n=M_full\n",
    "        R_n=R_full\n",
    "        nb=R_full*np.sqrt(1.0-u**2) \n",
    "        #print(n)\n",
    "\n",
    "    return u,e,nb,eps_p_tot,Landau_p_tot"
   ]
  },
  {
   "cell_type": "code",
   "execution_count": 17,
   "metadata": {},
   "outputs": [],
   "source": [
    "# Plotting Functions\n",
    "def plot_bjorken_solution(eps_p):\n",
    "    plt.figure(figsize=(6, 5), dpi=500)\n",
    "    plt.semilogy(eps_p.transpose()[:,0],eps_p.transpose()[:,1]/15,label='Numerical',linestyle='-.',color='#e41a1c')\n",
    "    plt.semilogy(eps_p.transpose()[:,0],Bjorken_nb(eps_p.transpose()[:,0])/15,color='#e41a1c',label='Analytical')\n",
    "    plt.xlabel(\"$\\\\tau$ (fm)\", fontsize=20)\n",
    "    plt.ylabel(\"${\\epsilon}/{\\epsilon_0}$\", fontsize=20, weight='bold')\n",
    "    plt.legend(frameon=False, fontsize=13)\n",
    "    plt.show()\n",
    "\n",
    "def plot_landau_solution(eta,eps_p,Landau_p):\n",
    "    plt.figure(figsize=(6,5), dpi=500)\n",
    "    #plt.xlim(-10,10)\n",
    "    plt.xticks(np.arange(min(eta), max(eta)+1, 2.0))\n",
    "    plt.tick_params(axis='both', which='both', labelsize=20, direction='in')\n",
    "    plt.plot(eta,Landau_p[0,:],label='Numerical ($t_0$=500 fm)',linestyle='-.',color='#e41a1c')\n",
    "    plt.plot(eta,Landau(eta,eps_p.transpose()[0,0]),color='#e41a1c')\n",
    "    plt.plot(eta,Landau_p[19,:],label='t=600 fm',linestyle='-.',color='#4daf4a')\n",
    "    plt.plot(eta,Landau(eta,eps_p.transpose()[19,0]),color='#4daf4a')\n",
    "    plt.plot(eta,Landau_p[39,:],label='t=700 fm',linestyle='-.',color='#adaf4f')\n",
    "    plt.plot(eta,Landau(eta,eps_p.transpose()[39,0]),color='#adaf4f')\n",
    "    plt.plot(eta,Landau_p[99,:],label='t=1000 fm',linestyle='-.',color='#edaf4f')\n",
    "    plt.plot(eta,Landau(eta,eps_p.transpose()[99,0]),color='#edaf4f')\n",
    "    plt.xlabel(\"$\\\\eta$\" ,fontsize=20)\n",
    "\n",
    "    plt.text(2,0.85, 'Landau-Khalatnikov solution', fontsize=7)\n",
    "    plt.text(3,0.75, '$\\Delta t=5$ fm', fontsize=10)\n",
    "    plt.ylabel(\"${\\epsilon}$ (MeV/fm$^3$)\",fontsize=15,weight='bold')\n",
    "    plt.legend(frameon=False,fontsize=8,loc='upper left')\n",
    "    plt.show()"
   ]
  },
  {
   "cell_type": "code",
   "execution_count": 19,
   "metadata": {
    "scrolled": false
   },
   "outputs": [
    {
     "data": {
      "image/png": "[encoded data removed]",
      "text/plain": [
       "<Figure size 432x288 with 1 Axes>"
      ]
     },
     "metadata": {
      "needs_background": "light"
     },
     "output_type": "display_data"
    },
    {
     "data": {
      "image/png": "[encoded data removed]",
      "text/plain": [
       "<Figure size 432x288 with 1 Axes>"
      ]
     },
     "metadata": {
      "needs_background": "light"
     },
     "output_type": "display_data"
    }
   ],
   "source": [
    "# Main Execution\n",
    "if __name__ == \"__main__\":\n",
    "    t0, nt, dx, dt, E, u, n = initialize_conditions('square_pulse')\n",
    "    plt.plot(eta,u)\n",
    "    plt.show()\n",
    "    u, e, n, eps_p, Landau_p = flow2(t0, u, E, n)\n",
    "    plt.plot(eta,u)\n",
    "    plt.plot(eta,n)\n",
    "    plt.plot(eta,e)\n",
    "    plt.show()\n",
    "    #plot_bjorken_solution(eps_p)\n",
    "    #plot_landau_solution(eta,eps_p,Landau_p)"
   ]
  },
  {
   "cell_type": "code",
   "execution_count": null,
   "metadata": {},
   "outputs": [],
   "source": []
  }
 ],
 "metadata": {
  "kernelspec": {
   "display_name": "Python 3",
   "language": "python",
   "name": "python3"
  },
  "language_info": {
   "codemirror_mode": {
    "name": "ipython",
    "version": 3
   },
   "file_extension": ".py",
   "mimetype": "text/x-python",
   "name": "python",
   "nbconvert_exporter": "python",
   "pygments_lexer": "ipython3",
   "version": "3.7.3"
  }
 },
 "nbformat": 4,
 "nbformat_minor": 2
}
